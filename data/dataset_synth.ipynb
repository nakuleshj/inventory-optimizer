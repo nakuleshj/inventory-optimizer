{
 "cells": [
  {
   "cell_type": "code",
   "execution_count": 5,
   "id": "5f1eeed9",
   "metadata": {},
   "outputs": [],
   "source": [
    "import pandas as pd\n",
    "import numpy as np"
   ]
  },
  {
   "cell_type": "markdown",
   "id": "71c2b953",
   "metadata": {},
   "source": [
    "Generate Product Data from the dataset"
   ]
  },
  {
   "cell_type": "code",
   "execution_count": 6,
   "id": "98f61ed2",
   "metadata": {},
   "outputs": [
    {
     "name": "stdout",
     "output_type": "stream",
     "text": [
      "  InvoiceNo StockCode                          Description  Quantity  \\\n",
      "0    536365    85123A   WHITE HANGING HEART T-LIGHT HOLDER         6   \n",
      "1    536365     71053                  WHITE METAL LANTERN         6   \n",
      "2    536365    84406B       CREAM CUPID HEARTS COAT HANGER         8   \n",
      "3    536365    84029G  KNITTED UNION FLAG HOT WATER BOTTLE         6   \n",
      "4    536365    84029E       RED WOOLLY HOTTIE WHITE HEART.         6   \n",
      "\n",
      "          InvoiceDate  UnitPrice  CustomerID         Country  \n",
      "0 2010-12-01 08:26:00       2.55     17850.0  United Kingdom  \n",
      "1 2010-12-01 08:26:00       3.39     17850.0  United Kingdom  \n",
      "2 2010-12-01 08:26:00       2.75     17850.0  United Kingdom  \n",
      "3 2010-12-01 08:26:00       3.39     17850.0  United Kingdom  \n",
      "4 2010-12-01 08:26:00       3.39     17850.0  United Kingdom  \n"
     ]
    }
   ],
   "source": [
    "data=pd.read_excel(\"UCI Online Retail Data.xlsx\")\n",
    "print(data.head())"
   ]
  },
  {
   "cell_type": "code",
   "execution_count": 7,
   "id": "633015c9",
   "metadata": {},
   "outputs": [],
   "source": [
    "data=data[data['Quantity']>0].dropna(subset=['StockCode','Description','UnitPrice'])\n",
    "product_data=data[['StockCode','Description','UnitPrice']].drop_duplicates().copy()\n",
    "product_data.rename(columns={\n",
    "'StockCode':'product_id',\n",
    "'Description': 'product_name',\n",
    "'UnitPrice': 'unit_cost'\n",
    "},inplace=True)\n",
    "product_data['category']=np.random.choice(['Home','Gifts','Stationery','Toys'],len(product_data))\n",
    "product_data['MOQ']=np.random.randint(10,30,size=len(product_data))\n",
    "product_data['lead_time_days']=np.random.randint(2,7,size=len(product_data))\n",
    "product_data.to_csv('product_data.csv',index=False)"
   ]
  },
  {
   "cell_type": "code",
   "execution_count": 9,
   "id": "275f4924",
   "metadata": {},
   "outputs": [],
   "source": [
    "data['InvoiceDate']=pd.to_datetime(data['InvoiceDate'])\n",
    "data['warehouse_id']=np.random.choice(['W1','W2','W3'],size=len(data))\n",
    "\n",
    "sales_stream = data[['InvoiceDate', 'StockCode', 'Quantity', 'warehouse_id']].copy()\n",
    "sales_stream.rename(columns={\n",
    "    'InvoiceDate': 'timestamp',\n",
    "    'StockCode': 'product_id',\n",
    "    'Quantity': 'units_sold'\n",
    "},inplace=True)\n",
    "\n",
    "sales_stream.to_csv('sales_stream.csv',index=False)"
   ]
  },
  {
   "cell_type": "code",
   "execution_count": 11,
   "id": "1ca31d39",
   "metadata": {},
   "outputs": [],
   "source": [
    "product_ids=product_data['product_id'].values\n",
    "warehouses=['W1','W2','W3']\n",
    "\n",
    "inventory=[]\n",
    "\n",
    "for wh in warehouses:\n",
    "    for pid in product_ids:\n",
    "        inventory.append({\n",
    "            'warehouse_id':wh,\n",
    "            'product_id':pid,\n",
    "            'stock_units':np.random.randint(20,300)\n",
    "        })\n",
    "\n",
    "inventory_levels = pd.DataFrame(inventory)\n",
    "inventory_levels.to_csv(\"inventory_levels.csv\", index=False)"
   ]
  }
 ],
 "metadata": {
  "kernelspec": {
   "display_name": "Python 3",
   "language": "python",
   "name": "python3"
  },
  "language_info": {
   "codemirror_mode": {
    "name": "ipython",
    "version": 3
   },
   "file_extension": ".py",
   "mimetype": "text/x-python",
   "name": "python",
   "nbconvert_exporter": "python",
   "pygments_lexer": "ipython3",
   "version": "3.13.3"
  }
 },
 "nbformat": 4,
 "nbformat_minor": 5
}
